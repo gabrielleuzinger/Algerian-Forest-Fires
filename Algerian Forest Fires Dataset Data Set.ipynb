{
 "cells": [
  {
   "cell_type": "markdown",
   "metadata": {},
   "source": [
    "# Analysing the 'Algerian Forest Fires Dataset Data Set' from the UC Irvine Machine Learning repository"
   ]
  },
  {
   "cell_type": "markdown",
   "metadata": {},
   "source": [
    "This notebook is used to analyze the 'Algerian Forest Fires Dataset Data Set' from the UC Irvine Machine Learning repository. The data set is available [here](https://archive.ics.uci.edu/ml/datasets/Algerian+Forest+Fires+Dataset++). **The objective of the notebook is to create a model to classify the instances into fire or not fire**.\n",
    "\n",
    "The dataset includes 244 instances that regroup a data of two regions of Algeria,namely the Bejaia region located in the northeast of Algeria and the Sidi Bel-abbes region located in the northwest of Algeria. 122 instances for each region. The period od the data colletcion was June 2012 to September 2012. The dataset includes 11 attribues and 1 output attribue (class):\n",
    "\n",
    "\n",
    "1. Date: (DD/MM/YYYY) Day, month ('june' to 'september'), year (2012)\n",
    "2. Temp: temperature noon (temperature max) in Celsius degrees: 22 to 42\n",
    "3. RH: Relative Humidity in %: 21 to 90\n",
    "4. Ws: Wind speed in km/h: 6 to 29\n",
    "5. Rain: total day in mm: 0 to 16.8\n",
    "6. Fine Fuel Moisture Code (FFMC) index from the FWI system: 28.6 to 92.5\n",
    "7. Duff Moisture Code (DMC) index from the FWI system: 1.1 to 65.9\n",
    "8. Drought Code (DC) index from the FWI system: 7 to 220.4\n",
    "9. Initial Spread Index (ISI) index from the FWI system: 0 to 18.5\n",
    "10. Buildup Index (BUI) index from the FWI system: 1.1 to 68\n",
    "11. Fire Weather Index (FWI) Index: 0 to 31.1\n",
    "12. Classes: two classes, namely fire and not fire\n",
    "\n",
    "The notebook is organized as follows:\n",
    "\n",
    "1. Data exploration\n",
    "2. Train ML model\n",
    "3. Evaluate the ML model\n",
    "4. Conclusion\n",
    "\n",
    "----------"
   ]
  },
  {
   "cell_type": "markdown",
   "metadata": {},
   "source": [
    "## 1. Data exploration"
   ]
  },
  {
   "cell_type": "markdown",
   "metadata": {},
   "source": [
    "In this section, we import the data set and organize it. The result is a data set with 244 rows and 13 columns ('Temperature', 'RH', 'Ws', 'Rain ', 'FFMC', 'DMC', 'DC', 'ISI', 'BUI', 'FWI', 'Classes', 'region', 'date')"
   ]
  },
  {
   "cell_type": "code",
   "execution_count": 1,
   "metadata": {},
   "outputs": [],
   "source": [
    "import pandas as pd\n",
    "import numpy as np\n",
    "import matplotlib.pyplot as plt"
   ]
  },
  {
   "cell_type": "markdown",
   "metadata": {},
   "source": [
    "----------"
   ]
  },
  {
   "cell_type": "markdown",
   "metadata": {},
   "source": [
    "### Getting the data"
   ]
  },
  {
   "cell_type": "code",
   "execution_count": 2,
   "metadata": {},
   "outputs": [
    {
     "data": {
      "text/html": [
       "<div>\n",
       "<style scoped>\n",
       "    .dataframe tbody tr th:only-of-type {\n",
       "        vertical-align: middle;\n",
       "    }\n",
       "\n",
       "    .dataframe tbody tr th {\n",
       "        vertical-align: top;\n",
       "    }\n",
       "\n",
       "    .dataframe thead th {\n",
       "        text-align: right;\n",
       "    }\n",
       "</style>\n",
       "<table border=\"1\" class=\"dataframe\">\n",
       "  <thead>\n",
       "    <tr style=\"text-align: right;\">\n",
       "      <th></th>\n",
       "      <th>level_0</th>\n",
       "      <th>level_1</th>\n",
       "      <th>level_2</th>\n",
       "      <th>level_3</th>\n",
       "      <th>level_4</th>\n",
       "      <th>level_5</th>\n",
       "      <th>level_6</th>\n",
       "      <th>level_7</th>\n",
       "      <th>level_8</th>\n",
       "      <th>level_9</th>\n",
       "      <th>level_10</th>\n",
       "      <th>level_11</th>\n",
       "      <th>level_12</th>\n",
       "      <th>Bejaia Region Dataset</th>\n",
       "    </tr>\n",
       "  </thead>\n",
       "  <tbody>\n",
       "    <tr>\n",
       "      <th>0</th>\n",
       "      <td>day</td>\n",
       "      <td>month</td>\n",
       "      <td>year</td>\n",
       "      <td>Temperature</td>\n",
       "      <td>RH</td>\n",
       "      <td>Ws</td>\n",
       "      <td>Rain</td>\n",
       "      <td>FFMC</td>\n",
       "      <td>DMC</td>\n",
       "      <td>DC</td>\n",
       "      <td>ISI</td>\n",
       "      <td>BUI</td>\n",
       "      <td>FWI</td>\n",
       "      <td>Classes</td>\n",
       "    </tr>\n",
       "    <tr>\n",
       "      <th>1</th>\n",
       "      <td>01</td>\n",
       "      <td>06</td>\n",
       "      <td>2012</td>\n",
       "      <td>29</td>\n",
       "      <td>57</td>\n",
       "      <td>18</td>\n",
       "      <td>0</td>\n",
       "      <td>65.7</td>\n",
       "      <td>3.4</td>\n",
       "      <td>7.6</td>\n",
       "      <td>1.3</td>\n",
       "      <td>3.4</td>\n",
       "      <td>0.5</td>\n",
       "      <td>not fire</td>\n",
       "    </tr>\n",
       "    <tr>\n",
       "      <th>2</th>\n",
       "      <td>02</td>\n",
       "      <td>06</td>\n",
       "      <td>2012</td>\n",
       "      <td>29</td>\n",
       "      <td>61</td>\n",
       "      <td>13</td>\n",
       "      <td>1.3</td>\n",
       "      <td>64.4</td>\n",
       "      <td>4.1</td>\n",
       "      <td>7.6</td>\n",
       "      <td>1</td>\n",
       "      <td>3.9</td>\n",
       "      <td>0.4</td>\n",
       "      <td>not fire</td>\n",
       "    </tr>\n",
       "    <tr>\n",
       "      <th>3</th>\n",
       "      <td>03</td>\n",
       "      <td>06</td>\n",
       "      <td>2012</td>\n",
       "      <td>26</td>\n",
       "      <td>82</td>\n",
       "      <td>22</td>\n",
       "      <td>13.1</td>\n",
       "      <td>47.1</td>\n",
       "      <td>2.5</td>\n",
       "      <td>7.1</td>\n",
       "      <td>0.3</td>\n",
       "      <td>2.7</td>\n",
       "      <td>0.1</td>\n",
       "      <td>not fire</td>\n",
       "    </tr>\n",
       "    <tr>\n",
       "      <th>4</th>\n",
       "      <td>04</td>\n",
       "      <td>06</td>\n",
       "      <td>2012</td>\n",
       "      <td>25</td>\n",
       "      <td>89</td>\n",
       "      <td>13</td>\n",
       "      <td>2.5</td>\n",
       "      <td>28.6</td>\n",
       "      <td>1.3</td>\n",
       "      <td>6.9</td>\n",
       "      <td>0</td>\n",
       "      <td>1.7</td>\n",
       "      <td>0</td>\n",
       "      <td>not fire</td>\n",
       "    </tr>\n",
       "  </tbody>\n",
       "</table>\n",
       "</div>"
      ],
      "text/plain": [
       "  level_0 level_1 level_2      level_3 level_4 level_5 level_6 level_7  \\\n",
       "0     day   month    year  Temperature      RH      Ws   Rain     FFMC   \n",
       "1      01      06    2012           29      57      18       0    65.7   \n",
       "2      02      06    2012           29      61      13     1.3    64.4   \n",
       "3      03      06    2012           26      82      22    13.1    47.1   \n",
       "4      04      06    2012           25      89      13     2.5    28.6   \n",
       "\n",
       "  level_8 level_9 level_10 level_11 level_12 Bejaia Region Dataset   \n",
       "0     DMC      DC      ISI      BUI      FWI              Classes    \n",
       "1     3.4     7.6      1.3      3.4      0.5            not fire     \n",
       "2     4.1     7.6        1      3.9      0.4            not fire     \n",
       "3     2.5     7.1      0.3      2.7      0.1            not fire     \n",
       "4     1.3     6.9        0      1.7        0            not fire     "
      ]
     },
     "execution_count": 2,
     "metadata": {},
     "output_type": "execute_result"
    }
   ],
   "source": [
    "data = pd.read_csv('/Users/leuzinger/Dropbox/Data Science/Awari/Classification/Algerian Forest Fires Dataset Data Set/Algerian_forest_fires_dataset_UPDATE.csv')\n",
    "data.reset_index(inplace=True)\n",
    "pd.set_option('display.max_columns', None)\n",
    "pd.set_option('display.max_rows', None)\n",
    "data.head()"
   ]
  },
  {
   "cell_type": "code",
   "execution_count": 3,
   "metadata": {},
   "outputs": [
    {
     "data": {
      "text/html": [
       "<div>\n",
       "<style scoped>\n",
       "    .dataframe tbody tr th:only-of-type {\n",
       "        vertical-align: middle;\n",
       "    }\n",
       "\n",
       "    .dataframe tbody tr th {\n",
       "        vertical-align: top;\n",
       "    }\n",
       "\n",
       "    .dataframe thead th {\n",
       "        text-align: right;\n",
       "    }\n",
       "</style>\n",
       "<table border=\"1\" class=\"dataframe\">\n",
       "  <thead>\n",
       "    <tr style=\"text-align: right;\">\n",
       "      <th></th>\n",
       "      <th>day</th>\n",
       "      <th>month</th>\n",
       "      <th>year</th>\n",
       "      <th>Temperature</th>\n",
       "      <th>RH</th>\n",
       "      <th>Ws</th>\n",
       "      <th>Rain</th>\n",
       "      <th>FFMC</th>\n",
       "      <th>DMC</th>\n",
       "      <th>DC</th>\n",
       "      <th>ISI</th>\n",
       "      <th>BUI</th>\n",
       "      <th>FWI</th>\n",
       "      <th>Classes</th>\n",
       "      <th>region</th>\n",
       "    </tr>\n",
       "  </thead>\n",
       "  <tbody>\n",
       "    <tr>\n",
       "      <th>1</th>\n",
       "      <td>01</td>\n",
       "      <td>06</td>\n",
       "      <td>2012</td>\n",
       "      <td>29</td>\n",
       "      <td>57</td>\n",
       "      <td>18</td>\n",
       "      <td>0</td>\n",
       "      <td>65.7</td>\n",
       "      <td>3.4</td>\n",
       "      <td>7.6</td>\n",
       "      <td>1.3</td>\n",
       "      <td>3.4</td>\n",
       "      <td>0.5</td>\n",
       "      <td>not fire</td>\n",
       "      <td>Bejaia</td>\n",
       "    </tr>\n",
       "    <tr>\n",
       "      <th>2</th>\n",
       "      <td>02</td>\n",
       "      <td>06</td>\n",
       "      <td>2012</td>\n",
       "      <td>29</td>\n",
       "      <td>61</td>\n",
       "      <td>13</td>\n",
       "      <td>1.3</td>\n",
       "      <td>64.4</td>\n",
       "      <td>4.1</td>\n",
       "      <td>7.6</td>\n",
       "      <td>1</td>\n",
       "      <td>3.9</td>\n",
       "      <td>0.4</td>\n",
       "      <td>not fire</td>\n",
       "      <td>Bejaia</td>\n",
       "    </tr>\n",
       "    <tr>\n",
       "      <th>3</th>\n",
       "      <td>03</td>\n",
       "      <td>06</td>\n",
       "      <td>2012</td>\n",
       "      <td>26</td>\n",
       "      <td>82</td>\n",
       "      <td>22</td>\n",
       "      <td>13.1</td>\n",
       "      <td>47.1</td>\n",
       "      <td>2.5</td>\n",
       "      <td>7.1</td>\n",
       "      <td>0.3</td>\n",
       "      <td>2.7</td>\n",
       "      <td>0.1</td>\n",
       "      <td>not fire</td>\n",
       "      <td>Bejaia</td>\n",
       "    </tr>\n",
       "    <tr>\n",
       "      <th>4</th>\n",
       "      <td>04</td>\n",
       "      <td>06</td>\n",
       "      <td>2012</td>\n",
       "      <td>25</td>\n",
       "      <td>89</td>\n",
       "      <td>13</td>\n",
       "      <td>2.5</td>\n",
       "      <td>28.6</td>\n",
       "      <td>1.3</td>\n",
       "      <td>6.9</td>\n",
       "      <td>0</td>\n",
       "      <td>1.7</td>\n",
       "      <td>0</td>\n",
       "      <td>not fire</td>\n",
       "      <td>Bejaia</td>\n",
       "    </tr>\n",
       "    <tr>\n",
       "      <th>5</th>\n",
       "      <td>05</td>\n",
       "      <td>06</td>\n",
       "      <td>2012</td>\n",
       "      <td>27</td>\n",
       "      <td>77</td>\n",
       "      <td>16</td>\n",
       "      <td>0</td>\n",
       "      <td>64.8</td>\n",
       "      <td>3</td>\n",
       "      <td>14.2</td>\n",
       "      <td>1.2</td>\n",
       "      <td>3.9</td>\n",
       "      <td>0.5</td>\n",
       "      <td>not fire</td>\n",
       "      <td>Bejaia</td>\n",
       "    </tr>\n",
       "  </tbody>\n",
       "</table>\n",
       "</div>"
      ],
      "text/plain": [
       "  day month  year Temperature  RH  Ws Rain   FFMC  DMC    DC  ISI  BUI  FWI  \\\n",
       "1  01    06  2012          29  57  18     0  65.7  3.4   7.6  1.3  3.4  0.5   \n",
       "2  02    06  2012          29  61  13   1.3  64.4  4.1   7.6    1  3.9  0.4   \n",
       "3  03    06  2012          26  82  22  13.1  47.1  2.5   7.1  0.3  2.7  0.1   \n",
       "4  04    06  2012          25  89  13   2.5  28.6  1.3   6.9    0  1.7    0   \n",
       "5  05    06  2012          27  77  16     0  64.8    3  14.2  1.2  3.9  0.5   \n",
       "\n",
       "       Classes  region  \n",
       "1  not fire     Bejaia  \n",
       "2  not fire     Bejaia  \n",
       "3  not fire     Bejaia  \n",
       "4  not fire     Bejaia  \n",
       "5  not fire     Bejaia  "
      ]
     },
     "execution_count": 3,
     "metadata": {},
     "output_type": "execute_result"
    }
   ],
   "source": [
    "data.columns=['day','month','year','Temperature','RH','Ws','Rain ','FFMC','DMC','DC','ISI','BUI','FWI','Classes']\n",
    "data['region'] = 'Bejaia'\n",
    "data.loc[123:,'region'] = 'Sidi-Bel Abbes'\n",
    "data = data.drop([0,123,124],axis=0)\n",
    "data.head()"
   ]
  },
  {
   "cell_type": "code",
   "execution_count": 4,
   "metadata": {},
   "outputs": [
    {
     "name": "stdout",
     "output_type": "stream",
     "text": [
      "<class 'pandas.core.frame.DataFrame'>\n",
      "Int64Index: 244 entries, 1 to 246\n",
      "Data columns (total 15 columns):\n",
      " #   Column       Non-Null Count  Dtype \n",
      "---  ------       --------------  ----- \n",
      " 0   day          244 non-null    object\n",
      " 1   month        244 non-null    object\n",
      " 2   year         244 non-null    object\n",
      " 3   Temperature  244 non-null    object\n",
      " 4   RH           244 non-null    object\n",
      " 5   Ws           244 non-null    object\n",
      " 6   Rain         244 non-null    object\n",
      " 7   FFMC         244 non-null    object\n",
      " 8   DMC          244 non-null    object\n",
      " 9   DC           244 non-null    object\n",
      " 10  ISI          244 non-null    object\n",
      " 11  BUI          244 non-null    object\n",
      " 12  FWI          244 non-null    object\n",
      " 13  Classes      243 non-null    object\n",
      " 14  region       244 non-null    object\n",
      "dtypes: object(15)\n",
      "memory usage: 30.5+ KB\n"
     ]
    }
   ],
   "source": [
    "data.info()"
   ]
  },
  {
   "cell_type": "code",
   "execution_count": 5,
   "metadata": {},
   "outputs": [],
   "source": [
    "#there was an issue with this line. The values of two columns were combined in a single column.\n",
    "\n",
    "data.loc[168,:] = ['14', '07', '2012', '37', '37', '18', '0.2', '88.9', '12.9',\n",
    "       '14.6','9', '12.5', '10.4', 'fire', 'Sidi-Bel Abbes']"
   ]
  },
  {
   "cell_type": "code",
   "execution_count": 6,
   "metadata": {},
   "outputs": [],
   "source": [
    "data['date'] = data[['year','month','day']].agg('-'.join, axis=1)\n",
    "data = data.drop(['year','month','day'],axis=1)"
   ]
  },
  {
   "cell_type": "code",
   "execution_count": 7,
   "metadata": {},
   "outputs": [
    {
     "name": "stdout",
     "output_type": "stream",
     "text": [
      "<class 'pandas.core.frame.DataFrame'>\n",
      "Int64Index: 244 entries, 1 to 246\n",
      "Data columns (total 13 columns):\n",
      " #   Column       Non-Null Count  Dtype         \n",
      "---  ------       --------------  -----         \n",
      " 0   Temperature  244 non-null    int64         \n",
      " 1   RH           244 non-null    int64         \n",
      " 2   Ws           244 non-null    int64         \n",
      " 3   Rain         244 non-null    float64       \n",
      " 4   FFMC         244 non-null    float64       \n",
      " 5   DMC          244 non-null    float64       \n",
      " 6   DC           244 non-null    float64       \n",
      " 7   ISI          244 non-null    float64       \n",
      " 8   BUI          244 non-null    float64       \n",
      " 9   FWI          244 non-null    float64       \n",
      " 10  Classes      244 non-null    object        \n",
      " 11  region       244 non-null    object        \n",
      " 12  date         244 non-null    datetime64[ns]\n",
      "dtypes: datetime64[ns](1), float64(7), int64(3), object(2)\n",
      "memory usage: 34.8+ KB\n"
     ]
    }
   ],
   "source": [
    "data[['Temperature', 'RH', 'Ws']] = data[['Temperature', 'RH', 'Ws']].astype(int)\n",
    "data[['Rain ', 'FFMC','DMC', 'DC', 'ISI', 'BUI', 'FWI']] = data[['Rain ', 'FFMC','DMC', 'DC', 'ISI', 'BUI', 'FWI']].astype(float)\n",
    "data[\"date\"] = pd.to_datetime(data[\"date\"], format=\"%Y-%m-%d\")\n",
    "data.info()"
   ]
  },
  {
   "cell_type": "code",
   "execution_count": 8,
   "metadata": {
    "scrolled": true
   },
   "outputs": [
    {
     "data": {
      "text/plain": [
       "array(['not fire   ', 'fire   ', 'fire', 'fire ', 'not fire', 'not fire ',\n",
       "       'not fire     ', 'not fire    '], dtype=object)"
      ]
     },
     "execution_count": 8,
     "metadata": {},
     "output_type": "execute_result"
    }
   ],
   "source": [
    "data.Classes.unique()"
   ]
  },
  {
   "cell_type": "code",
   "execution_count": 9,
   "metadata": {},
   "outputs": [
    {
     "data": {
      "text/plain": [
       "array([0, 1])"
      ]
     },
     "execution_count": 9,
     "metadata": {},
     "output_type": "execute_result"
    }
   ],
   "source": [
    "data['Classes'] = data['Classes'].str.replace(' ','').str.replace('  ','').str.replace('notfire','not fire')\n",
    "data['Classes'] = data['Classes'].str.replace('not fire','0').str.replace('fire','1').astype(int)\n",
    "data.Classes.unique()"
   ]
  },
  {
   "cell_type": "code",
   "execution_count": 10,
   "metadata": {
    "scrolled": true
   },
   "outputs": [
    {
     "data": {
      "text/html": [
       "<div>\n",
       "<style scoped>\n",
       "    .dataframe tbody tr th:only-of-type {\n",
       "        vertical-align: middle;\n",
       "    }\n",
       "\n",
       "    .dataframe tbody tr th {\n",
       "        vertical-align: top;\n",
       "    }\n",
       "\n",
       "    .dataframe thead th {\n",
       "        text-align: right;\n",
       "    }\n",
       "</style>\n",
       "<table border=\"1\" class=\"dataframe\">\n",
       "  <thead>\n",
       "    <tr style=\"text-align: right;\">\n",
       "      <th></th>\n",
       "      <th>Temperature</th>\n",
       "      <th>RH</th>\n",
       "      <th>Ws</th>\n",
       "      <th>Rain</th>\n",
       "      <th>FFMC</th>\n",
       "      <th>DMC</th>\n",
       "      <th>DC</th>\n",
       "      <th>ISI</th>\n",
       "      <th>BUI</th>\n",
       "      <th>FWI</th>\n",
       "      <th>Classes</th>\n",
       "      <th>region</th>\n",
       "      <th>date</th>\n",
       "    </tr>\n",
       "  </thead>\n",
       "  <tbody>\n",
       "    <tr>\n",
       "      <th>1</th>\n",
       "      <td>29</td>\n",
       "      <td>57</td>\n",
       "      <td>18</td>\n",
       "      <td>0.0</td>\n",
       "      <td>65.7</td>\n",
       "      <td>3.4</td>\n",
       "      <td>7.6</td>\n",
       "      <td>1.3</td>\n",
       "      <td>3.4</td>\n",
       "      <td>0.5</td>\n",
       "      <td>0</td>\n",
       "      <td>Bejaia</td>\n",
       "      <td>2012-06-01</td>\n",
       "    </tr>\n",
       "    <tr>\n",
       "      <th>2</th>\n",
       "      <td>29</td>\n",
       "      <td>61</td>\n",
       "      <td>13</td>\n",
       "      <td>1.3</td>\n",
       "      <td>64.4</td>\n",
       "      <td>4.1</td>\n",
       "      <td>7.6</td>\n",
       "      <td>1.0</td>\n",
       "      <td>3.9</td>\n",
       "      <td>0.4</td>\n",
       "      <td>0</td>\n",
       "      <td>Bejaia</td>\n",
       "      <td>2012-06-02</td>\n",
       "    </tr>\n",
       "    <tr>\n",
       "      <th>3</th>\n",
       "      <td>26</td>\n",
       "      <td>82</td>\n",
       "      <td>22</td>\n",
       "      <td>13.1</td>\n",
       "      <td>47.1</td>\n",
       "      <td>2.5</td>\n",
       "      <td>7.1</td>\n",
       "      <td>0.3</td>\n",
       "      <td>2.7</td>\n",
       "      <td>0.1</td>\n",
       "      <td>0</td>\n",
       "      <td>Bejaia</td>\n",
       "      <td>2012-06-03</td>\n",
       "    </tr>\n",
       "    <tr>\n",
       "      <th>4</th>\n",
       "      <td>25</td>\n",
       "      <td>89</td>\n",
       "      <td>13</td>\n",
       "      <td>2.5</td>\n",
       "      <td>28.6</td>\n",
       "      <td>1.3</td>\n",
       "      <td>6.9</td>\n",
       "      <td>0.0</td>\n",
       "      <td>1.7</td>\n",
       "      <td>0.0</td>\n",
       "      <td>0</td>\n",
       "      <td>Bejaia</td>\n",
       "      <td>2012-06-04</td>\n",
       "    </tr>\n",
       "    <tr>\n",
       "      <th>5</th>\n",
       "      <td>27</td>\n",
       "      <td>77</td>\n",
       "      <td>16</td>\n",
       "      <td>0.0</td>\n",
       "      <td>64.8</td>\n",
       "      <td>3.0</td>\n",
       "      <td>14.2</td>\n",
       "      <td>1.2</td>\n",
       "      <td>3.9</td>\n",
       "      <td>0.5</td>\n",
       "      <td>0</td>\n",
       "      <td>Bejaia</td>\n",
       "      <td>2012-06-05</td>\n",
       "    </tr>\n",
       "  </tbody>\n",
       "</table>\n",
       "</div>"
      ],
      "text/plain": [
       "   Temperature  RH  Ws  Rain   FFMC  DMC    DC  ISI  BUI  FWI  Classes  \\\n",
       "1           29  57  18    0.0  65.7  3.4   7.6  1.3  3.4  0.5        0   \n",
       "2           29  61  13    1.3  64.4  4.1   7.6  1.0  3.9  0.4        0   \n",
       "3           26  82  22   13.1  47.1  2.5   7.1  0.3  2.7  0.1        0   \n",
       "4           25  89  13    2.5  28.6  1.3   6.9  0.0  1.7  0.0        0   \n",
       "5           27  77  16    0.0  64.8  3.0  14.2  1.2  3.9  0.5        0   \n",
       "\n",
       "   region       date  \n",
       "1  Bejaia 2012-06-01  \n",
       "2  Bejaia 2012-06-02  \n",
       "3  Bejaia 2012-06-03  \n",
       "4  Bejaia 2012-06-04  \n",
       "5  Bejaia 2012-06-05  "
      ]
     },
     "execution_count": 10,
     "metadata": {},
     "output_type": "execute_result"
    }
   ],
   "source": [
    "data.head()"
   ]
  },
  {
   "cell_type": "markdown",
   "metadata": {},
   "source": [
    "----------"
   ]
  },
  {
   "cell_type": "markdown",
   "metadata": {},
   "source": [
    "### Data statistics and visualization"
   ]
  },
  {
   "cell_type": "markdown",
   "metadata": {},
   "source": [
    "First, let's have a look at some statistics from the data set. We verifiy that the mean values of the attributes have different scales. Thus, there may be some benefit from standardizing the data [(GÉRON, 2019)](https://www.amazon.com.br/Hands-Machine-Learning-Scikit-Learn-TensorFlow/dp/1492032646).\n",
    "\n",
    "Second, we must verify if our data set is balanced. **We can see that the classes are reasonably balanced between fires and not fires**.\n",
    "\n",
    "\"It is often useful to look at your data using multiple different visualizations in order to spark ideas\" [(BROWNLEE, 2016)](https://machinelearningmastery.com/machine-learning-with-python/). Looking at the histogram of the atributes, we verify that some have Gaussian-like distributions and other exponential-like distributions."
   ]
  },
  {
   "cell_type": "code",
   "execution_count": 11,
   "metadata": {
    "scrolled": true
   },
   "outputs": [
    {
     "data": {
      "text/html": [
       "<div>\n",
       "<style scoped>\n",
       "    .dataframe tbody tr th:only-of-type {\n",
       "        vertical-align: middle;\n",
       "    }\n",
       "\n",
       "    .dataframe tbody tr th {\n",
       "        vertical-align: top;\n",
       "    }\n",
       "\n",
       "    .dataframe thead th {\n",
       "        text-align: right;\n",
       "    }\n",
       "</style>\n",
       "<table border=\"1\" class=\"dataframe\">\n",
       "  <thead>\n",
       "    <tr style=\"text-align: right;\">\n",
       "      <th></th>\n",
       "      <th>Temperature</th>\n",
       "      <th>RH</th>\n",
       "      <th>Ws</th>\n",
       "      <th>Rain</th>\n",
       "      <th>FFMC</th>\n",
       "      <th>DMC</th>\n",
       "      <th>DC</th>\n",
       "      <th>ISI</th>\n",
       "      <th>BUI</th>\n",
       "      <th>FWI</th>\n",
       "      <th>Classes</th>\n",
       "    </tr>\n",
       "  </thead>\n",
       "  <tbody>\n",
       "    <tr>\n",
       "      <th>count</th>\n",
       "      <td>244.000000</td>\n",
       "      <td>244.000000</td>\n",
       "      <td>244.000000</td>\n",
       "      <td>244.000000</td>\n",
       "      <td>244.000000</td>\n",
       "      <td>244.000000</td>\n",
       "      <td>244.000000</td>\n",
       "      <td>244.000000</td>\n",
       "      <td>244.000000</td>\n",
       "      <td>244.000000</td>\n",
       "      <td>244.000000</td>\n",
       "    </tr>\n",
       "    <tr>\n",
       "      <th>mean</th>\n",
       "      <td>32.172131</td>\n",
       "      <td>61.938525</td>\n",
       "      <td>15.504098</td>\n",
       "      <td>0.760656</td>\n",
       "      <td>77.887705</td>\n",
       "      <td>14.673361</td>\n",
       "      <td>49.288115</td>\n",
       "      <td>4.759836</td>\n",
       "      <td>16.673361</td>\n",
       "      <td>7.049180</td>\n",
       "      <td>0.565574</td>\n",
       "    </tr>\n",
       "    <tr>\n",
       "      <th>std</th>\n",
       "      <td>3.633843</td>\n",
       "      <td>14.884200</td>\n",
       "      <td>2.810178</td>\n",
       "      <td>1.999406</td>\n",
       "      <td>14.337571</td>\n",
       "      <td>12.368039</td>\n",
       "      <td>47.619662</td>\n",
       "      <td>4.154628</td>\n",
       "      <td>14.201648</td>\n",
       "      <td>7.428366</td>\n",
       "      <td>0.496700</td>\n",
       "    </tr>\n",
       "    <tr>\n",
       "      <th>min</th>\n",
       "      <td>22.000000</td>\n",
       "      <td>21.000000</td>\n",
       "      <td>6.000000</td>\n",
       "      <td>0.000000</td>\n",
       "      <td>28.600000</td>\n",
       "      <td>0.700000</td>\n",
       "      <td>6.900000</td>\n",
       "      <td>0.000000</td>\n",
       "      <td>1.100000</td>\n",
       "      <td>0.000000</td>\n",
       "      <td>0.000000</td>\n",
       "    </tr>\n",
       "    <tr>\n",
       "      <th>25%</th>\n",
       "      <td>30.000000</td>\n",
       "      <td>52.000000</td>\n",
       "      <td>14.000000</td>\n",
       "      <td>0.000000</td>\n",
       "      <td>72.075000</td>\n",
       "      <td>5.800000</td>\n",
       "      <td>13.275000</td>\n",
       "      <td>1.400000</td>\n",
       "      <td>6.000000</td>\n",
       "      <td>0.700000</td>\n",
       "      <td>0.000000</td>\n",
       "    </tr>\n",
       "    <tr>\n",
       "      <th>50%</th>\n",
       "      <td>32.000000</td>\n",
       "      <td>63.000000</td>\n",
       "      <td>15.000000</td>\n",
       "      <td>0.000000</td>\n",
       "      <td>83.500000</td>\n",
       "      <td>11.300000</td>\n",
       "      <td>33.100000</td>\n",
       "      <td>3.500000</td>\n",
       "      <td>12.450000</td>\n",
       "      <td>4.450000</td>\n",
       "      <td>1.000000</td>\n",
       "    </tr>\n",
       "    <tr>\n",
       "      <th>75%</th>\n",
       "      <td>35.000000</td>\n",
       "      <td>73.250000</td>\n",
       "      <td>17.000000</td>\n",
       "      <td>0.500000</td>\n",
       "      <td>88.300000</td>\n",
       "      <td>20.750000</td>\n",
       "      <td>68.150000</td>\n",
       "      <td>7.300000</td>\n",
       "      <td>22.525000</td>\n",
       "      <td>11.375000</td>\n",
       "      <td>1.000000</td>\n",
       "    </tr>\n",
       "    <tr>\n",
       "      <th>max</th>\n",
       "      <td>42.000000</td>\n",
       "      <td>90.000000</td>\n",
       "      <td>29.000000</td>\n",
       "      <td>16.800000</td>\n",
       "      <td>96.000000</td>\n",
       "      <td>65.900000</td>\n",
       "      <td>220.400000</td>\n",
       "      <td>19.000000</td>\n",
       "      <td>68.000000</td>\n",
       "      <td>31.100000</td>\n",
       "      <td>1.000000</td>\n",
       "    </tr>\n",
       "  </tbody>\n",
       "</table>\n",
       "</div>"
      ],
      "text/plain": [
       "       Temperature          RH          Ws       Rain         FFMC  \\\n",
       "count   244.000000  244.000000  244.000000  244.000000  244.000000   \n",
       "mean     32.172131   61.938525   15.504098    0.760656   77.887705   \n",
       "std       3.633843   14.884200    2.810178    1.999406   14.337571   \n",
       "min      22.000000   21.000000    6.000000    0.000000   28.600000   \n",
       "25%      30.000000   52.000000   14.000000    0.000000   72.075000   \n",
       "50%      32.000000   63.000000   15.000000    0.000000   83.500000   \n",
       "75%      35.000000   73.250000   17.000000    0.500000   88.300000   \n",
       "max      42.000000   90.000000   29.000000   16.800000   96.000000   \n",
       "\n",
       "              DMC          DC         ISI         BUI         FWI     Classes  \n",
       "count  244.000000  244.000000  244.000000  244.000000  244.000000  244.000000  \n",
       "mean    14.673361   49.288115    4.759836   16.673361    7.049180    0.565574  \n",
       "std     12.368039   47.619662    4.154628   14.201648    7.428366    0.496700  \n",
       "min      0.700000    6.900000    0.000000    1.100000    0.000000    0.000000  \n",
       "25%      5.800000   13.275000    1.400000    6.000000    0.700000    0.000000  \n",
       "50%     11.300000   33.100000    3.500000   12.450000    4.450000    1.000000  \n",
       "75%     20.750000   68.150000    7.300000   22.525000   11.375000    1.000000  \n",
       "max     65.900000  220.400000   19.000000   68.000000   31.100000    1.000000  "
      ]
     },
     "execution_count": 11,
     "metadata": {},
     "output_type": "execute_result"
    }
   ],
   "source": [
    "data.describe()"
   ]
  },
  {
   "cell_type": "code",
   "execution_count": 12,
   "metadata": {},
   "outputs": [
    {
     "data": {
      "text/plain": [
       "1    138\n",
       "0    106\n",
       "Name: Classes, dtype: int64"
      ]
     },
     "execution_count": 12,
     "metadata": {},
     "output_type": "execute_result"
    }
   ],
   "source": [
    "data.Classes.value_counts()"
   ]
  },
  {
   "cell_type": "code",
   "execution_count": 13,
   "metadata": {
    "scrolled": true
   },
   "outputs": [
    {
     "data": {
      "image/png": "[encoded data removed]",
      "text/plain": [
       "<Figure size 1152x1152 with 12 Axes>"
      ]
     },
     "metadata": {
      "needs_background": "light"
     },
     "output_type": "display_data"
    }
   ],
   "source": [
    "data[['Temperature', 'RH', 'Ws', 'Rain ', 'FFMC', 'DMC', 'DC', 'ISI', 'BUI','FWI']].hist(sharex=False, sharey=False, xlabelsize=10, ylabelsize=10,figsize=(16, 16))\n",
    "plt.show()"
   ]
  },
  {
   "cell_type": "markdown",
   "metadata": {},
   "source": [
    "----------"
   ]
  },
  {
   "cell_type": "markdown",
   "metadata": {},
   "source": [
    "### Creating the Train and Test sets"
   ]
  },
  {
   "cell_type": "markdown",
   "metadata": {},
   "source": [
    "Creating a test set at the beginning of the project avoid *data snooping* bias, i.e., \"when you estimate the generalization error using the test set, your estimate will be too optimistic, and you will launch a system that will not perform as well as expected\" (GÉRON, 2019).\n",
    "\n",
    "Therefore, we create training and testing sets."
   ]
  },
  {
   "cell_type": "code",
   "execution_count": 14,
   "metadata": {},
   "outputs": [],
   "source": [
    "from sklearn.model_selection import train_test_split\n",
    "\n",
    "fire_X = data.drop('Classes',axis=1).copy()\n",
    "fire_y = data['Classes'].copy()\n",
    "\n",
    "fire_X_train, fire_X_test, fire_y_train, fire_y_test = train_test_split(fire_X, fire_y, test_size=0.2,stratify=fire_y)"
   ]
  },
  {
   "cell_type": "markdown",
   "metadata": {},
   "source": [
    "----------"
   ]
  },
  {
   "cell_type": "markdown",
   "metadata": {},
   "source": [
    "### Preparing the data for ML algorithms"
   ]
  },
  {
   "cell_type": "markdown",
   "metadata": {},
   "source": [
    "Before creating the ML models, we need to prepare the data so that the ML algorithms will work properly.\n",
    "\n",
    "First, we need to clean missing values from the dataset. Second, we need to put all the attributes in the same scale because \"Machine Learning algorithms don’t perform well when the input numerical attributes have very different scales\" (GÉRON, 2019).\n",
    "\n",
    "We verify that there is no missing values in our data set. So, we just prepare a pipeline to do the scaling when necessary.\n",
    "\n",
    "Besides, we do not expect the day to have a impact on the fires, but the month of the year can have some impact. Moreover, in this case the week of the year may be even more informative, as the weather conditions may varify during the month. Therefore, we convert the date attribute to week of the year.\\\n",
    "\n",
    "Finally, we encode the region as 0 (Bejaia) and 1 (Sidi-Bel Abbes)."
   ]
  },
  {
   "cell_type": "code",
   "execution_count": 15,
   "metadata": {},
   "outputs": [
    {
     "data": {
      "text/plain": [
       "False"
      ]
     },
     "execution_count": 15,
     "metadata": {},
     "output_type": "execute_result"
    }
   ],
   "source": [
    "data.isnull().values.any()"
   ]
  },
  {
   "cell_type": "code",
   "execution_count": 16,
   "metadata": {},
   "outputs": [
    {
     "data": {
      "text/html": [
       "<div>\n",
       "<style scoped>\n",
       "    .dataframe tbody tr th:only-of-type {\n",
       "        vertical-align: middle;\n",
       "    }\n",
       "\n",
       "    .dataframe tbody tr th {\n",
       "        vertical-align: top;\n",
       "    }\n",
       "\n",
       "    .dataframe thead th {\n",
       "        text-align: right;\n",
       "    }\n",
       "</style>\n",
       "<table border=\"1\" class=\"dataframe\">\n",
       "  <thead>\n",
       "    <tr style=\"text-align: right;\">\n",
       "      <th></th>\n",
       "      <th>Temperature</th>\n",
       "      <th>RH</th>\n",
       "      <th>Ws</th>\n",
       "      <th>Rain</th>\n",
       "      <th>FFMC</th>\n",
       "      <th>DMC</th>\n",
       "      <th>DC</th>\n",
       "      <th>ISI</th>\n",
       "      <th>BUI</th>\n",
       "      <th>FWI</th>\n",
       "      <th>region</th>\n",
       "      <th>week</th>\n",
       "    </tr>\n",
       "  </thead>\n",
       "  <tbody>\n",
       "    <tr>\n",
       "      <th>122</th>\n",
       "      <td>25</td>\n",
       "      <td>78</td>\n",
       "      <td>14</td>\n",
       "      <td>1.4</td>\n",
       "      <td>45.0</td>\n",
       "      <td>1.9</td>\n",
       "      <td>7.5</td>\n",
       "      <td>0.2</td>\n",
       "      <td>2.4</td>\n",
       "      <td>0.1</td>\n",
       "      <td>0</td>\n",
       "      <td>39</td>\n",
       "    </tr>\n",
       "    <tr>\n",
       "      <th>89</th>\n",
       "      <td>34</td>\n",
       "      <td>64</td>\n",
       "      <td>16</td>\n",
       "      <td>0.0</td>\n",
       "      <td>89.4</td>\n",
       "      <td>50.2</td>\n",
       "      <td>210.4</td>\n",
       "      <td>7.3</td>\n",
       "      <td>62.9</td>\n",
       "      <td>19.9</td>\n",
       "      <td>0</td>\n",
       "      <td>35</td>\n",
       "    </tr>\n",
       "    <tr>\n",
       "      <th>41</th>\n",
       "      <td>33</td>\n",
       "      <td>76</td>\n",
       "      <td>14</td>\n",
       "      <td>0.0</td>\n",
       "      <td>81.1</td>\n",
       "      <td>8.1</td>\n",
       "      <td>18.7</td>\n",
       "      <td>2.6</td>\n",
       "      <td>8.1</td>\n",
       "      <td>2.2</td>\n",
       "      <td>0</td>\n",
       "      <td>28</td>\n",
       "    </tr>\n",
       "    <tr>\n",
       "      <th>193</th>\n",
       "      <td>37</td>\n",
       "      <td>56</td>\n",
       "      <td>11</td>\n",
       "      <td>0.0</td>\n",
       "      <td>87.4</td>\n",
       "      <td>11.2</td>\n",
       "      <td>20.2</td>\n",
       "      <td>5.2</td>\n",
       "      <td>11.0</td>\n",
       "      <td>5.9</td>\n",
       "      <td>1</td>\n",
       "      <td>32</td>\n",
       "    </tr>\n",
       "    <tr>\n",
       "      <th>160</th>\n",
       "      <td>35</td>\n",
       "      <td>42</td>\n",
       "      <td>15</td>\n",
       "      <td>0.3</td>\n",
       "      <td>84.7</td>\n",
       "      <td>15.5</td>\n",
       "      <td>45.1</td>\n",
       "      <td>4.3</td>\n",
       "      <td>16.7</td>\n",
       "      <td>6.3</td>\n",
       "      <td>1</td>\n",
       "      <td>27</td>\n",
       "    </tr>\n",
       "  </tbody>\n",
       "</table>\n",
       "</div>"
      ],
      "text/plain": [
       "     Temperature  RH  Ws  Rain   FFMC   DMC     DC  ISI   BUI   FWI  region  \\\n",
       "122           25  78  14    1.4  45.0   1.9    7.5  0.2   2.4   0.1       0   \n",
       "89            34  64  16    0.0  89.4  50.2  210.4  7.3  62.9  19.9       0   \n",
       "41            33  76  14    0.0  81.1   8.1   18.7  2.6   8.1   2.2       0   \n",
       "193           37  56  11    0.0  87.4  11.2   20.2  5.2  11.0   5.9       1   \n",
       "160           35  42  15    0.3  84.7  15.5   45.1  4.3  16.7   6.3       1   \n",
       "\n",
       "     week  \n",
       "122    39  \n",
       "89     35  \n",
       "41     28  \n",
       "193    32  \n",
       "160    27  "
      ]
     },
     "execution_count": 16,
     "metadata": {},
     "output_type": "execute_result"
    }
   ],
   "source": [
    "import warnings\n",
    "warnings.filterwarnings(\"ignore\")\n",
    "\n",
    "fire_X_train['date'] = fire_X_train['date'].dt.week\n",
    "fire_X_train = fire_X_train.rename(columns={'date': 'week'})\n",
    "fire_X_train['region'] = fire_X_train['region'].str.replace('Bejaia','0').str.replace('Sidi-Bel Abbes','1')\n",
    "fire_X_train['region'] = fire_X_train['region'].astype(int)\n",
    "fire_X_train.head()"
   ]
  },
  {
   "cell_type": "code",
   "execution_count": 17,
   "metadata": {},
   "outputs": [],
   "source": [
    "from sklearn.pipeline import Pipeline\n",
    "from sklearn.preprocessing import StandardScaler\n",
    "\n",
    "def estimator_scaler(estimator):\n",
    "    #imputer = SimpleImputer(strategy='median')\n",
    "    pipeline = Pipeline(steps=[('scaler',StandardScaler()),('model', estimator)])\n",
    "    return pipeline "
   ]
  },
  {
   "cell_type": "markdown",
   "metadata": {},
   "source": [
    "----------"
   ]
  },
  {
   "cell_type": "markdown",
   "metadata": {},
   "source": [
    "## 2. Train ML model"
   ]
  },
  {
   "cell_type": "markdown",
   "metadata": {},
   "source": [
    "After preparing the data set, we are ready to select and train our ML model.\n",
    "\n",
    "We start with two linear machine learning algorithms:\n",
    "\n",
    "1. Logistic Regression (LogR). \"Logistic regression assumes a Gaussian distribution for the numeric input variables and can model binary classification problem\" (BROWNLEE, 2016). \"It is commonly used to estimate the probability that an instance belongs to a particular class\" (GÉRON, 2019).\n",
    "2. Linear Discriminant Analysis (LDA). This is a statistical technique for binary and multiclass classification (BROWNLEE, 2016).\n",
    "\n",
    "Then, we try some nonlinear machine learning algorithms:\n",
    "\n",
    "\n",
    "3. k-Nearest Neighbors (KNN). This model \"locates the k most similar instances in the training dataset for a new data instance\" (BROWNLEE, 2016).\n",
    "4. Naive Bayes. This method \"calculates the probability of each class and the conditional probability of each class given each input value. These probabilities are estimated for new data and multiplied together, assuming that they are all independent (a simple or naive assumption)\" (BROWNLEE, 2016). \n",
    "5. Classification and Regression Trees (CART). It uses \"the train- ing data to select the best points to split the data in order to minimize a cost metric\" (BROWNLEE, 2016).\n",
    "6. Support Vector Machines (SVM). SVM seek a line that best separates two classes. It is one of the most popular models in Machine Learning (BROWNLEE, 2016; GÉRON, 2019).\n",
    "\n",
    "\n",
    "Evaluating a classifier is often trickier than evaluating other ML models. **\"Classification accuracy is the number of correct predictions made as a ratio of all predictions made**. This is the most common evaluation metric for classification problems, it is also the most misused\" (BROWNLEE, 2016). \n",
    "\n",
    "**A good way to evaluate classification ML models is to use a confusion matrix**. \"The general idea is to count the number of times instances of class A are classified as class B\" (GÉRON, 2019). \"A confusion matrix is simply a square matrix that reports the counts of the true positive (TP), true negative (TN), false positive (FP), and false negative (FN) predictions of a classifier\" [(RASCHKA; MIRJALILI, 2019)](https://www.amazon.com.br/Python-Machine-Learning-Sebastian-Raschka-dp-1789955750/dp/1789955750/ref=dp_ob_title_bk). \n",
    "\n",
    "**A more concise metric to the confusion matrix is the accuracy of the positive predictions, called the precision of the classifier** (GÉRON, 2019). Precision can be calculated dividing the number of true positives by the sum of true positives and false positives (RASCHKA; MIRJALILI, 2019). \"Precision is typically used along with another metric named recall, also called sensitivity or the true positive rate (TPR): this is the ratio of positive instances that are correctly detected by the classifier\" (GÉRON, 2019). Recall can be calculated dividing the number of true positives by the sum of true positives and false negatives (RASCHKA; MIRJALILI, 2019). **\"Alone, neither precision or recall tells the whole story\"** [(BROWNLEE, 2020)](https://machinelearningmastery.com/imbalanced-classification-with-python/). The F-score (or F1-score) combines Precision and Recall in a single score. It is the harmonic mean of this two factors. A good F-score means that the model has both a good Precision and a good Recall.\n",
    "\n",
    "Finally, **the receiver operating characteristic (ROC) curve is another common tool used with binary classifiers** (GÉRON, 2019). It is useful to select classification models based on their perfomance with respect to the true positive rate (TPR) and false positive rate (FPR) (RASCHKA; MIRJALILI, 2019).\n",
    "\n",
    "**Nonetheless, the metric we use to evaluate the models is the F1-score because in our problem accuratelty detecting fires (true positives) is more important than accuratelty detetecting not fires (true negatives)**. \n",
    "\n",
    "Besides, \"the key to a fair comparison of machine learning algorithms is ensuring that each algorithm is evaluated in the same way on the same data. You can achieve this by forcing each algorithm to be evaluated on a consistent test harness\" (BROWNLEE, 2016). In this project, we do this by using the same split in the cross validation. We use the KFold function from the sklearn library with a random value rs as the random_state parameter. Although the rs value change everytime the notebook is run, once it is set, the same rs value is used in all the models. This guarantees that all the models are evaluated on the same data.\n",
    "\n",
    "**The results show that the CART model has the best F1-score**, and also the best Accuracy and all tested models. The LogR and SVM models also have a high F1-score. Furthermore, we see that feature scaling does not have a significant impact on the models, contrary to our initial analysis."
   ]
  },
  {
   "cell_type": "code",
   "execution_count": 18,
   "metadata": {},
   "outputs": [],
   "source": [
    "from sklearn.model_selection import RepeatedStratifiedKFold\n",
    "from sklearn.model_selection import cross_val_score\n",
    "\n",
    "def evaluation(model,X_train,y_train,rs):\n",
    "    model.fit(X_train,y_train)\n",
    "    yhat_train = model.predict(X_train)\n",
    "    kfold = RepeatedStratifiedKFold(n_splits=10, n_repeats=3, random_state=rs)\n",
    "    results_acc = cross_val_score(model, X_train, y_train, cv=kfold, scoring='accuracy')\n",
    "    results_roc = cross_val_score(model, X_train, y_train, cv=kfold, scoring='roc_auc')\n",
    "    results_f1 = cross_val_score(model, X_train, y_train, cv=kfold, scoring='f1')\n",
    "    \n",
    "    print('Accuracy: %.6f (%.6f)' % (results_acc.mean(), results_acc.std()))\n",
    "    print('ROC-AUC: %.6f (%.6f)' % (results_roc.mean(), results_roc.std()))\n",
    "    print('F1-score: %.6f (%.6f)' % (results_f1.mean(), results_f1.std()))\n",
    "    \n",
    "def evaluation2(model,X_train,y_train,rs):\n",
    "    model.fit(X_train,y_train)\n",
    "    yhat_train = model.predict(X_train)\n",
    "    kfold = RepeatedStratifiedKFold(n_splits=10, n_repeats=3, random_state=rs)\n",
    "    results_acc = cross_val_score(model, X_train, y_train, cv=kfold, scoring='accuracy')\n",
    "    results_roc = cross_val_score(model, X_train, y_train, cv=kfold, scoring='roc_auc')\n",
    "    results_f1 = cross_val_score(model, X_train, y_train, cv=kfold, scoring='f1')\n",
    "    \n",
    "    return results_acc,results_roc,results_f1"
   ]
  },
  {
   "cell_type": "code",
   "execution_count": 19,
   "metadata": {},
   "outputs": [],
   "source": [
    "from random import randrange\n",
    "\n",
    "rs = randrange(10000)"
   ]
  },
  {
   "cell_type": "code",
   "execution_count": 20,
   "metadata": {},
   "outputs": [
    {
     "data": {
      "text/html": [
       "<div>\n",
       "<style scoped>\n",
       "    .dataframe tbody tr th:only-of-type {\n",
       "        vertical-align: middle;\n",
       "    }\n",
       "\n",
       "    .dataframe tbody tr th {\n",
       "        vertical-align: top;\n",
       "    }\n",
       "\n",
       "    .dataframe thead th {\n",
       "        text-align: right;\n",
       "    }\n",
       "</style>\n",
       "<table border=\"1\" class=\"dataframe\">\n",
       "  <thead>\n",
       "    <tr style=\"text-align: right;\">\n",
       "      <th></th>\n",
       "      <th>model</th>\n",
       "      <th>Accuracy_mean</th>\n",
       "      <th>Accuracy_std</th>\n",
       "      <th>ROC-AUC_mean</th>\n",
       "      <th>ROC-AUC_std</th>\n",
       "      <th>F1-score_std</th>\n",
       "      <th>F1-score_mean</th>\n",
       "    </tr>\n",
       "  </thead>\n",
       "  <tbody>\n",
       "    <tr>\n",
       "      <th>0</th>\n",
       "      <td>LR</td>\n",
       "      <td>0.967368</td>\n",
       "      <td>0.036086</td>\n",
       "      <td>0.997054</td>\n",
       "      <td>0.005706</td>\n",
       "      <td>0.970782</td>\n",
       "      <td>0.032493</td>\n",
       "    </tr>\n",
       "    <tr>\n",
       "      <th>1</th>\n",
       "      <td>LR_scl</td>\n",
       "      <td>0.962105</td>\n",
       "      <td>0.041762</td>\n",
       "      <td>0.996717</td>\n",
       "      <td>0.006377</td>\n",
       "      <td>0.966411</td>\n",
       "      <td>0.037483</td>\n",
       "    </tr>\n",
       "    <tr>\n",
       "      <th>2</th>\n",
       "      <td>LDA</td>\n",
       "      <td>0.938421</td>\n",
       "      <td>0.044678</td>\n",
       "      <td>0.984428</td>\n",
       "      <td>0.018712</td>\n",
       "      <td>0.944657</td>\n",
       "      <td>0.040591</td>\n",
       "    </tr>\n",
       "    <tr>\n",
       "      <th>3</th>\n",
       "      <td>LDA_scl</td>\n",
       "      <td>0.938421</td>\n",
       "      <td>0.044678</td>\n",
       "      <td>0.984428</td>\n",
       "      <td>0.018712</td>\n",
       "      <td>0.944657</td>\n",
       "      <td>0.040591</td>\n",
       "    </tr>\n",
       "    <tr>\n",
       "      <th>4</th>\n",
       "      <td>KNN</td>\n",
       "      <td>0.866404</td>\n",
       "      <td>0.061752</td>\n",
       "      <td>0.962374</td>\n",
       "      <td>0.034538</td>\n",
       "      <td>0.887250</td>\n",
       "      <td>0.048633</td>\n",
       "    </tr>\n",
       "    <tr>\n",
       "      <th>5</th>\n",
       "      <td>KNN_scl</td>\n",
       "      <td>0.904211</td>\n",
       "      <td>0.050668</td>\n",
       "      <td>0.957260</td>\n",
       "      <td>0.041413</td>\n",
       "      <td>0.919639</td>\n",
       "      <td>0.040403</td>\n",
       "    </tr>\n",
       "    <tr>\n",
       "      <th>6</th>\n",
       "      <td>GaussianNB</td>\n",
       "      <td>0.951842</td>\n",
       "      <td>0.042347</td>\n",
       "      <td>0.978956</td>\n",
       "      <td>0.031497</td>\n",
       "      <td>0.957263</td>\n",
       "      <td>0.037552</td>\n",
       "    </tr>\n",
       "    <tr>\n",
       "      <th>7</th>\n",
       "      <td>GaussianNB_scl</td>\n",
       "      <td>0.951842</td>\n",
       "      <td>0.042347</td>\n",
       "      <td>0.978956</td>\n",
       "      <td>0.031497</td>\n",
       "      <td>0.957263</td>\n",
       "      <td>0.037552</td>\n",
       "    </tr>\n",
       "    <tr>\n",
       "      <th>8</th>\n",
       "      <td>CART</td>\n",
       "      <td>0.986316</td>\n",
       "      <td>0.022703</td>\n",
       "      <td>0.998948</td>\n",
       "      <td>0.003162</td>\n",
       "      <td>0.987578</td>\n",
       "      <td>0.020621</td>\n",
       "    </tr>\n",
       "    <tr>\n",
       "      <th>9</th>\n",
       "      <td>CART_scl</td>\n",
       "      <td>0.986316</td>\n",
       "      <td>0.022703</td>\n",
       "      <td>0.998948</td>\n",
       "      <td>0.003162</td>\n",
       "      <td>0.987578</td>\n",
       "      <td>0.020621</td>\n",
       "    </tr>\n",
       "    <tr>\n",
       "      <th>10</th>\n",
       "      <td>SVM</td>\n",
       "      <td>0.960526</td>\n",
       "      <td>0.040966</td>\n",
       "      <td>0.997854</td>\n",
       "      <td>0.005031</td>\n",
       "      <td>0.964820</td>\n",
       "      <td>0.036705</td>\n",
       "    </tr>\n",
       "    <tr>\n",
       "      <th>11</th>\n",
       "      <td>SVM_scl</td>\n",
       "      <td>0.965614</td>\n",
       "      <td>0.040352</td>\n",
       "      <td>0.998232</td>\n",
       "      <td>0.004742</td>\n",
       "      <td>0.969074</td>\n",
       "      <td>0.037104</td>\n",
       "    </tr>\n",
       "  </tbody>\n",
       "</table>\n",
       "</div>"
      ],
      "text/plain": [
       "             model  Accuracy_mean  Accuracy_std  ROC-AUC_mean  ROC-AUC_std  \\\n",
       "0               LR       0.967368      0.036086      0.997054     0.005706   \n",
       "1           LR_scl       0.962105      0.041762      0.996717     0.006377   \n",
       "2              LDA       0.938421      0.044678      0.984428     0.018712   \n",
       "3          LDA_scl       0.938421      0.044678      0.984428     0.018712   \n",
       "4              KNN       0.866404      0.061752      0.962374     0.034538   \n",
       "5          KNN_scl       0.904211      0.050668      0.957260     0.041413   \n",
       "6       GaussianNB       0.951842      0.042347      0.978956     0.031497   \n",
       "7   GaussianNB_scl       0.951842      0.042347      0.978956     0.031497   \n",
       "8             CART       0.986316      0.022703      0.998948     0.003162   \n",
       "9         CART_scl       0.986316      0.022703      0.998948     0.003162   \n",
       "10             SVM       0.960526      0.040966      0.997854     0.005031   \n",
       "11         SVM_scl       0.965614      0.040352      0.998232     0.004742   \n",
       "\n",
       "    F1-score_std  F1-score_mean  \n",
       "0       0.970782       0.032493  \n",
       "1       0.966411       0.037483  \n",
       "2       0.944657       0.040591  \n",
       "3       0.944657       0.040591  \n",
       "4       0.887250       0.048633  \n",
       "5       0.919639       0.040403  \n",
       "6       0.957263       0.037552  \n",
       "7       0.957263       0.037552  \n",
       "8       0.987578       0.020621  \n",
       "9       0.987578       0.020621  \n",
       "10      0.964820       0.036705  \n",
       "11      0.969074       0.037104  "
      ]
     },
     "execution_count": 20,
     "metadata": {},
     "output_type": "execute_result"
    }
   ],
   "source": [
    "from sklearn.linear_model import LogisticRegression\n",
    "from sklearn.discriminant_analysis import LinearDiscriminantAnalysis\n",
    "from sklearn.neighbors import KNeighborsClassifier\n",
    "from sklearn.naive_bayes import GaussianNB\n",
    "from sklearn.ensemble import RandomForestClassifier\n",
    "from sklearn.svm import SVC\n",
    "\n",
    "result = pd.DataFrame(columns=['model','Accuracy_mean','Accuracy_std','ROC-AUC_mean','ROC-AUC_std',\n",
    "                               'F1-score_std','F1-score_mean'])\n",
    "\n",
    "models = [LogisticRegression(),LinearDiscriminantAnalysis(),KNeighborsClassifier(),GaussianNB(),RandomForestClassifier(random_state=rs),SVC(kernel='linear')]\n",
    "models_str = ['LR','LDA','KNN','GaussianNB','CART','SVM']\n",
    "\n",
    "for k in range(len(models)):\n",
    "    results_acc,results_roc,results_f1 = evaluation2(models[k],fire_X_train,fire_y_train,rs)\n",
    "    results_ = [models_str[k],results_acc.mean(),results_acc.std(),results_roc.mean(),results_roc.std(),\n",
    "                results_f1.mean(),results_f1.std()]\n",
    "    results_ = pd.Series(results_, index = result.columns)\n",
    "    result = result.append(results_,ignore_index=True)\n",
    "    pipe_ = estimator_scaler(models[k])\n",
    "    results_acc_scl,results_roc_scl,results_f1_scl = evaluation2(pipe_,fire_X_train,fire_y_train,rs)\n",
    "    results_pipe = [models_str[k]+'_scl',results_acc_scl.mean(),results_acc_scl.std(),results_roc_scl.mean(),\n",
    "                    results_roc_scl.std(),results_f1_scl.mean(),results_f1_scl.std()]\n",
    "    results_pipe = pd.Series(results_pipe, index = result.columns)\n",
    "    result = result.append(results_pipe,ignore_index=True)\n",
    "\n",
    "result"
   ]
  },
  {
   "cell_type": "markdown",
   "metadata": {},
   "source": [
    "-----"
   ]
  },
  {
   "cell_type": "markdown",
   "metadata": {},
   "source": [
    "### Algorithm Tuning"
   ]
  },
  {
   "cell_type": "markdown",
   "metadata": {},
   "source": [
    "In this section, we are interested in tuning and comparing different parameter settings to further improve the performance for making predictions on unseen data. \"This process is called model selection, with\n",
    "the name referring to a given classification problem for which we want to select the optimal values of tuning parameters (also called hyperparameters)\" (RASCHKA; MIRJALILI, 2019).\n",
    "\n",
    "**We verifiy that the best parameters for the LogR model are 'C': 1.0, 'penalty': 'l2', 'solver': 'newton-cg'. For the CART model, the best parameters are 'max_features': 'log2', 'n_estimators': 100. Besides, we verify that the CART model is better than the LR model**."
   ]
  },
  {
   "cell_type": "code",
   "execution_count": 23,
   "metadata": {},
   "outputs": [
    {
     "name": "stdout",
     "output_type": "stream",
     "text": [
      "F1:0.966566 (0.034775) ROC_AUC:0.997854 (0.005031) with: {'C': 100, 'penalty': 'l2', 'solver': 'newton-cg'}\n",
      "F1:0.970914 (0.030233) ROC_AUC:0.995539 (0.007468) with: {'C': 100, 'penalty': 'l2', 'solver': 'lbfgs'}\n",
      "F1:0.966566 (0.028831) ROC_AUC:0.996296 (0.006011) with: {'C': 100, 'penalty': 'l2', 'solver': 'liblinear'}\n",
      "F1:0.966566 (0.034775) ROC_AUC:0.997854 (0.005031) with: {'C': 10, 'penalty': 'l2', 'solver': 'newton-cg'}\n",
      "F1:0.971211 (0.027138) ROC_AUC:0.997054 (0.005706) with: {'C': 10, 'penalty': 'l2', 'solver': 'lbfgs'}\n",
      "F1:0.971211 (0.027138) ROC_AUC:0.997054 (0.005706) with: {'C': 10, 'penalty': 'l2', 'solver': 'liblinear'}\n",
      "F1:0.971217 (0.029559) ROC_AUC:0.997854 (0.005031) with: {'C': 1.0, 'penalty': 'l2', 'solver': 'newton-cg'}\n",
      "F1:0.970782 (0.032493) ROC_AUC:0.997054 (0.005706) with: {'C': 1.0, 'penalty': 'l2', 'solver': 'lbfgs'}\n",
      "F1:0.970782 (0.032493) ROC_AUC:0.997054 (0.005706) with: {'C': 1.0, 'penalty': 'l2', 'solver': 'liblinear'}\n",
      "F1:0.966428 (0.035890) ROC_AUC:0.997475 (0.006038) with: {'C': 0.1, 'penalty': 'l2', 'solver': 'newton-cg'}\n",
      "F1:0.967442 (0.044193) ROC_AUC:0.996002 (0.008601) with: {'C': 0.1, 'penalty': 'l2', 'solver': 'lbfgs'}\n",
      "F1:0.968892 (0.044522) ROC_AUC:0.996338 (0.007717) with: {'C': 0.1, 'penalty': 'l2', 'solver': 'liblinear'}\n",
      "F1:0.963650 (0.036405) ROC_AUC:0.997138 (0.007187) with: {'C': 0.01, 'penalty': 'l2', 'solver': 'newton-cg'}\n",
      "F1:0.963650 (0.036405) ROC_AUC:0.997138 (0.007187) with: {'C': 0.01, 'penalty': 'l2', 'solver': 'lbfgs'}\n",
      "F1:0.957756 (0.038238) ROC_AUC:0.991498 (0.014656) with: {'C': 0.01, 'penalty': 'l2', 'solver': 'liblinear'}\n"
     ]
    }
   ],
   "source": [
    "from sklearn.model_selection import GridSearchCV\n",
    "\n",
    "# define models and parameters\n",
    "model = LogisticRegression()\n",
    "solvers = ['newton-cg', 'lbfgs', 'liblinear']\n",
    "penalty = ['l2']\n",
    "c_values = [100, 10, 1.0, 0.1, 0.01]\n",
    "scoring=['f1','roc_auc']\n",
    "\n",
    "# define grid search\n",
    "grid = dict(solver=solvers,penalty=penalty,C=c_values)\n",
    "cv = RepeatedStratifiedKFold(n_splits=10, n_repeats=3, random_state=rs)\n",
    "grid_search = GridSearchCV(estimator=model, param_grid=grid, n_jobs=-1, cv=cv, scoring=scoring,error_score=0,refit=False)\n",
    "grid_result = grid_search.fit(fire_X_train, fire_y_train)\n",
    "\n",
    "# summarize results\n",
    "means_f1 = grid_result.cv_results_['mean_test_f1']\n",
    "means_roc = grid_result.cv_results_['mean_test_roc_auc']\n",
    "stds_f1 = grid_result.cv_results_['std_test_f1']\n",
    "stds_roc = grid_result.cv_results_['std_test_roc_auc']\n",
    "params = grid_result.cv_results_['params']\n",
    "for mean_f1, stdev_f1, mean_roc, stdev_roc, param in zip(means_f1, stds_f1, means_roc, stds_roc, params):\n",
    "    print(\"F1:%f (%f) ROC_AUC:%f (%f) with: %r\" % (mean_f1, stdev_f1, mean_roc, stdev_roc, param))"
   ]
  },
  {
   "cell_type": "code",
   "execution_count": 22,
   "metadata": {},
   "outputs": [
    {
     "name": "stdout",
     "output_type": "stream",
     "text": [
      "F1:0.977854 (0.032618) ROC_AUC:0.997580 (0.009241) with: {'max_features': 'sqrt', 'n_estimators': 10}\n",
      "F1:0.987578 (0.020621) ROC_AUC:0.998948 (0.003162) with: {'max_features': 'sqrt', 'n_estimators': 100}\n",
      "F1:0.984679 (0.021699) ROC_AUC:0.998948 (0.003162) with: {'max_features': 'sqrt', 'n_estimators': 1000}\n",
      "F1:0.977854 (0.032618) ROC_AUC:0.997580 (0.009241) with: {'max_features': 'log2', 'n_estimators': 10}\n",
      "F1:0.987578 (0.020621) ROC_AUC:0.998948 (0.003162) with: {'max_features': 'log2', 'n_estimators': 100}\n",
      "F1:0.984679 (0.021699) ROC_AUC:0.998948 (0.003162) with: {'max_features': 'log2', 'n_estimators': 1000}\n"
     ]
    }
   ],
   "source": [
    "model = RandomForestClassifier(random_state=rs)\n",
    "n_estimators = [10, 100, 1000]\n",
    "max_features = ['sqrt', 'log2']\n",
    "scoring=['f1','roc_auc']\n",
    "\n",
    "# define grid search\n",
    "grid = dict(n_estimators=n_estimators,max_features=max_features)\n",
    "cv = RepeatedStratifiedKFold(n_splits=10, n_repeats=3, random_state=rs)\n",
    "grid_search = GridSearchCV(estimator=model, param_grid=grid, n_jobs=-1, cv=cv, scoring=scoring,error_score=0,refit=False)\n",
    "grid_result = grid_search.fit(fire_X_train, fire_y_train)\n",
    "\n",
    "# summarize results\n",
    "means_f1 = grid_result.cv_results_['mean_test_f1']\n",
    "means_roc = grid_result.cv_results_['mean_test_roc_auc']\n",
    "stds_f1 = grid_result.cv_results_['std_test_f1']\n",
    "stds_roc = grid_result.cv_results_['std_test_roc_auc']\n",
    "params = grid_result.cv_results_['params']\n",
    "for mean_f1, stdev_f1, mean_roc, stdev_roc, param in zip(means_f1, stds_f1, means_roc, stds_roc, params):\n",
    "    print(\"F1:%f (%f) ROC_AUC:%f (%f) with: %r\" % (mean_f1, stdev_f1, mean_roc, stdev_roc, param))"
   ]
  },
  {
   "cell_type": "markdown",
   "metadata": {},
   "source": [
    "---------"
   ]
  },
  {
   "cell_type": "markdown",
   "metadata": {},
   "source": [
    "# 3. Evaluate the ML model"
   ]
  },
  {
   "cell_type": "markdown",
   "metadata": {},
   "source": [
    "Now evaluate the performance of our ML model in the test set, to see how it perform with unseen data.\n",
    "\n",
    "First, we prepare the X_test data as we did with the X_train data.\n",
    "\n",
    "Then, we test the two models, to check if the CART model is better than LogR model with the test data too.\n",
    "\n",
    "**We see that the LogR model perform better than the CART model with the test data**."
   ]
  },
  {
   "cell_type": "code",
   "execution_count": 24,
   "metadata": {},
   "outputs": [],
   "source": [
    "fire_X_test['date'] = fire_X_test['date'].dt.week\n",
    "fire_X_test = fire_X_test.rename(columns={'date': 'week'})\n",
    "fire_X_test['region'] = fire_X_test['region'].str.replace('Bejaia','0').str.replace('Sidi-Bel Abbes','1')\n",
    "fire_X_test['region'] = fire_X_test['region'].astype(int)"
   ]
  },
  {
   "cell_type": "code",
   "execution_count": 47,
   "metadata": {},
   "outputs": [
    {
     "name": "stdout",
     "output_type": "stream",
     "text": [
      "Accuracy: 0.959184\n",
      "ROC-AUC: 0.993197\n",
      "F1-score: 0.964286\n"
     ]
    },
    {
     "data": {
      "image/png": "[encoded data removed]",
      "text/plain": [
       "<Figure size 432x288 with 2 Axes>"
      ]
     },
     "metadata": {
      "needs_background": "light"
     },
     "output_type": "display_data"
    }
   ],
   "source": [
    "from sklearn.metrics import accuracy_score, roc_auc_score, f1_score, plot_confusion_matrix\n",
    "\n",
    "LR = LogisticRegression(C=1,penalty='l2',solver='newton-cg')\n",
    "LR.fit(fire_X_train,fire_y_train)\n",
    "\n",
    "fire_yhat_test = LR.predict(fire_X_test)\n",
    "fire_yprob_test = LR.predict_proba(fire_X_test)[:,1]\n",
    "\n",
    "acc = accuracy_score(fire_y_test,fire_yhat_test)\n",
    "roc = roc_auc_score(fire_y_test,fire_yprob_test)\n",
    "f1 = f1_score(fire_y_test,fire_yhat_test)\n",
    "\n",
    "print('Accuracy: %.6f' % acc)\n",
    "print('ROC-AUC: %.6f' % roc)\n",
    "print('F1-score: %.6f' % f1)\n",
    "\n",
    "class_names = ['fire','not fire']\n",
    "disp = plot_confusion_matrix(LR,fire_X_test,fire_y_test,\n",
    "                             display_labels=class_names,\n",
    "                             cmap=plt.cm.Blues,\n",
    "                             )\n",
    "disp.ax_.set_title(\"Confusion matrix\")\n",
    "\n",
    "\n",
    "\n",
    "plt.show()"
   ]
  },
  {
   "cell_type": "code",
   "execution_count": 48,
   "metadata": {},
   "outputs": [
    {
     "data": {
      "image/png": "[encoded data removed]",
      "text/plain": [
       "<Figure size 432x288 with 1 Axes>"
      ]
     },
     "metadata": {
      "needs_background": "light"
     },
     "output_type": "display_data"
    }
   ],
   "source": [
    "from sklearn.metrics import roc_curve\n",
    "\n",
    "# plot no skill roc curve\n",
    "plt.plot([0, 1], [0, 1], linestyle='--', label='No Skill')\n",
    "# calculate roc curve for model\n",
    "fpr, tpr, _ = roc_curve(fire_y_test, fire_yprob_test)\n",
    "# plot model roc curve\n",
    "plt.plot(fpr, tpr, marker='.', label='Logistic(area = %0.3f)' % roc)\n",
    "# axis labels\n",
    "plt.xlabel('False Positive Rate')\n",
    "plt.ylabel('True Positive Rate')\n",
    "# show the legend\n",
    "plt.legend()\n",
    "plt.title('ROC curve')\n",
    "# show the plot\n",
    "plt.show()"
   ]
  },
  {
   "cell_type": "code",
   "execution_count": 49,
   "metadata": {
    "scrolled": true
   },
   "outputs": [
    {
     "name": "stdout",
     "output_type": "stream",
     "text": [
      "Accuracy: 0.938776\n",
      "ROC-AUC: 0.991497\n",
      "F1-score: 0.945455\n"
     ]
    },
    {
     "data": {
      "image/png": "[encoded data removed]",
      "text/plain": [
       "<Figure size 432x288 with 2 Axes>"
      ]
     },
     "metadata": {
      "needs_background": "light"
     },
     "output_type": "display_data"
    }
   ],
   "source": [
    "rcc = RandomForestClassifier(max_features='log2',n_estimators=100,random_state=rs)\n",
    "rcc.fit(fire_X_train,fire_y_train)\n",
    "\n",
    "fire_yhat_test = rcc.predict(fire_X_test)\n",
    "fire_yprob_test = rcc.predict_proba(fire_X_test)[:,1]\n",
    "\n",
    "acc = accuracy_score(fire_y_test,fire_yhat_test)\n",
    "roc = roc_auc_score(fire_y_test,fire_yprob_test)\n",
    "f1 = f1_score(fire_y_test,fire_yhat_test)\n",
    "\n",
    "print('Accuracy: %.6f' % acc)\n",
    "print('ROC-AUC: %.6f' % roc)\n",
    "print('F1-score: %.6f' % f1)\n",
    "\n",
    "class_names = ['fire','not fire']\n",
    "disp = plot_confusion_matrix(rcc,fire_X_test,fire_y_test,\n",
    "                             display_labels=class_names,\n",
    "                             cmap=plt.cm.Blues,\n",
    "                             )\n",
    "disp.ax_.set_title(\"Confusion matrix\")\n",
    "\n",
    "plt.show()"
   ]
  },
  {
   "cell_type": "code",
   "execution_count": 50,
   "metadata": {},
   "outputs": [
    {
     "data": {
      "image/png": "[encoded data removed]",
      "text/plain": [
       "<Figure size 432x288 with 1 Axes>"
      ]
     },
     "metadata": {
      "needs_background": "light"
     },
     "output_type": "display_data"
    }
   ],
   "source": [
    "# plot no skill roc curve\n",
    "plt.plot([0, 1], [0, 1], linestyle='--', label='No Skill')\n",
    "# calculate roc curve for model\n",
    "fpr, tpr, _ = roc_curve(fire_y_test, fire_yprob_test)\n",
    "# plot model roc curve\n",
    "plt.plot(fpr, tpr, marker='.', label='Random Forest (area = %0.3f)' % roc)\n",
    "# axis labels\n",
    "plt.xlabel('False Positive Rate')\n",
    "plt.ylabel('True Positive Rate')\n",
    "plt.title('ROC curve')\n",
    "# show the legend\n",
    "plt.legend()\n",
    "# show the plot\n",
    "plt.show()"
   ]
  },
  {
   "cell_type": "markdown",
   "metadata": {},
   "source": [
    "----------------------"
   ]
  },
  {
   "cell_type": "markdown",
   "metadata": {},
   "source": [
    "## 4. Conclusion"
   ]
  },
  {
   "cell_type": "markdown",
   "metadata": {},
   "source": [
    "In this notebook, we created a model to classify the instances into fire or not fire in Algerian forests. \n",
    "\n",
    "First, we tested some classification models: \n",
    "\n",
    "1. Logistic Regression (LR)\n",
    "2. Linear Discriminant Analysis (LDA)\n",
    "3. k-Nearest Neighbors (KNN)\n",
    "4. Naive Bayes\n",
    "5. Classification and Regression Trees (CART)\n",
    "6. Support Vector Machines (SVM)\n",
    "\n",
    "In these first tests, the LR and the CART model performed bettet than the others. Beside, we verified that scaling the features had no significant impact in the models' perfomance.\n",
    "\n",
    "**Therefore, we tested two models with our test set: (i) LogR and (ii) CART. We verified that the models performed similarly. However, the LogR model was slightly better**."
   ]
  }
 ],
 "metadata": {
  "kernelspec": {
   "display_name": "Python 3",
   "language": "python",
   "name": "python3"
  },
  "language_info": {
   "codemirror_mode": {
    "name": "ipython",
    "version": 3
   },
   "file_extension": ".py",
   "mimetype": "text/x-python",
   "name": "python",
   "nbconvert_exporter": "python",
   "pygments_lexer": "ipython3",
   "version": "3.8.5"
  }
 },
 "nbformat": 4,
 "nbformat_minor": 4
}
